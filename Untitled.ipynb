{
 "cells": [
  {
   "cell_type": "markdown",
   "id": "68fd46b5",
   "metadata": {},
   "source": [
    "# 문화 데이터 분석\n",
    "## 주제: 장애인들의 체육 활동 분석"
   ]
  },
  {
   "cell_type": "code",
   "execution_count": 1,
   "id": "f0d42108",
   "metadata": {},
   "outputs": [],
   "source": [
    "import pandas as pd\n",
    "dataset/장애인_생활체육_교실_데이터(202304).csv"
   ]
  },
  {
   "cell_type": "markdown",
   "id": "8bf1e964",
   "metadata": {},
   "source": [
    "### 장애인들의 체력 측정 데이터 분석"
   ]
  },
  {
   "cell_type": "code",
   "execution_count": 77,
   "id": "2cdad569",
   "metadata": {},
   "outputs": [],
   "source": [
    "month_list = ['01', '02', '03', '04', '05', '06', '07', '08', '09', '10', '11', '12']\n",
    "physics_test_df = pd.DataFrame()\n",
    "for m in month_list:\n",
    "    cur_df = pd.read_csv('C:/Users/USER/Downloads/장애인_체력측정_처방데이터_2022' + m + '.csv')\n",
    "    physics_test_df = pd.concat([physics_test_df, cur_df])"
   ]
  },
  {
   "cell_type": "code",
   "execution_count": 78,
   "id": "d512db42",
   "metadata": {},
   "outputs": [],
   "source": [
    "physics_test_df.to_csv('2022년_장애인_체력측정_처방데이터.csv', encoding = 'utf-8-sig')"
   ]
  }
 ],
 "metadata": {
  "kernelspec": {
   "display_name": "Python 3",
   "language": "python",
   "name": "python3"
  },
  "language_info": {
   "codemirror_mode": {
    "name": "ipython",
    "version": 3
   },
   "file_extension": ".py",
   "mimetype": "text/x-python",
   "name": "python",
   "nbconvert_exporter": "python",
   "pygments_lexer": "ipython3",
   "version": "3.8.8"
  }
 },
 "nbformat": 4,
 "nbformat_minor": 5
}
